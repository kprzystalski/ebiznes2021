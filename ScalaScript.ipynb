{
 "cells": [
  {
   "cell_type": "markdown",
   "metadata": {},
   "source": [
    "# Scala Script\n",
    "\n",
    "In this course we go through the main Scala language principles.\n"
   ]
  },
  {
   "cell_type": "markdown",
   "metadata": {},
   "source": [
    "## Let's start\n",
    "\n",
    "With a classic example:"
   ]
  },
  {
   "cell_type": "code",
   "execution_count": 2,
   "metadata": {},
   "outputs": [
    {
     "name": "stdout",
     "output_type": "stream",
     "text": [
      "Hello World"
     ]
    }
   ],
   "source": [
    "print(\"Hello World\")"
   ]
  },
  {
   "cell_type": "markdown",
   "metadata": {},
   "source": [
    "We have variables and constants:"
   ]
  },
  {
   "cell_type": "code",
   "execution_count": null,
   "metadata": {},
   "outputs": [],
   "source": [
    "var sample :Int = _\n",
    "\n",
    "val text = \"abcd\"\n",
    "\n",
    "println(text)\n",
    "\n",
    "var number:Int = 4.*(2)\n",
    "\n",
    "println(number)\n",
    "\n",
    "sample=10\n",
    "println(sample)"
   ]
  },
  {
   "cell_type": "markdown",
   "metadata": {},
   "source": [
    "We can assign to muitple variables:"
   ]
  },
  {
   "cell_type": "code",
   "execution_count": null,
   "metadata": {},
   "outputs": [],
   "source": [
    "val (var1:Int,var2:String)=(2,\"abcd\")\n",
    "\n",
    "println(var1)"
   ]
  },
  {
   "cell_type": "code",
   "execution_count": null,
   "metadata": {},
   "outputs": [],
   "source": [
    "println(\"size: \"+text.size)"
   ]
  },
  {
   "cell_type": "markdown",
   "metadata": {},
   "source": [
    "Nil is a special kind of type as Null in Java:"
   ]
  },
  {
   "cell_type": "code",
   "execution_count": null,
   "metadata": {},
   "outputs": [],
   "source": [
    "println(\"Nil:\"+Nil)"
   ]
  },
  {
   "cell_type": "markdown",
   "metadata": {},
   "source": [
    "## Call by value vs. call by name"
   ]
  },
  {
   "cell_type": "code",
   "execution_count": null,
   "metadata": {},
   "outputs": [],
   "source": [
    "//by value\n",
    "def square1(x: Int,y: Int) {\n",
    "    return x*x\n",
    "}\n",
    "\n",
    "//by name\n",
    "def square2(x: => Int,y: => Int) {\n",
    "    return x*x\n",
    "}\n",
    "\n",
    "val t0 = System.nanoTime()\n",
    "print(square1(3+1,2))\n",
    "val t1 = System.nanoTime()\n",
    "print(\"Time: \"+ (t1-t0)/100000)\n",
    "\n",
    "val t3 = System.nanoTime()\n",
    "print(square2(3+1,2))\n",
    "val t4 = System.nanoTime()\n",
    "print(\"Time: \"+ (t4-t3)/100000)"
   ]
  },
  {
   "cell_type": "markdown",
   "metadata": {},
   "source": [
    "## Loops\n",
    "\n",
    "Are similar to what we have in other languages like Java or Ruby:"
   ]
  },
  {
   "cell_type": "code",
   "execution_count": null,
   "metadata": {},
   "outputs": [],
   "source": [
    "object Test {\n",
    "  def main(args: Array[String]) {\n",
    "    var a = 1\n",
    "    var i = 0\n",
    "\n",
    "    println(\"while loop using Java-style iteration\")\n",
    "    while (a < 10) {\n",
    "      println(\"Value of a: \" + a)\n",
    "      a = a + 1\n",
    "    }\n",
    "\n",
    "    println(\"for loop using Java-style iteration\")\n",
    "    for (i <- 0 until args.length) {\n",
    "      println(args(i))\n",
    "    }\n",
    "\n",
    "\n",
    "    println( \"for loop using Ruby-style iteration\" )\n",
    "    args.foreach { arg =>\n",
    "        println(arg)\n",
    "    }\n",
    "\n",
    "  }\n",
    "\n",
    "}\n",
    "\n",
    "Test.main(Array(\"a\",\"b\",\"c\"))"
   ]
  },
  {
   "cell_type": "markdown",
   "metadata": {},
   "source": [
    "## Tuples\n",
    "\n",
    "Similar as in Python:\n"
   ]
  },
  {
   "cell_type": "code",
   "execution_count": null,
   "metadata": {},
   "outputs": [],
   "source": [
    "def rangeExample {\n",
    "  val range = 0 until 10\n",
    "\n",
    "  println(\"range example\")\n",
    "  println(range.start+\" \"+range.end)\n",
    "  for (i <- range) {\n",
    "    println(i)\n",
    "  }\n",
    "\n",
    "  val secondRange = 0 until 10 by 5\n",
    "  println(secondRange.start+\" \"+secondRange.end+\" \"+secondRange.step)\n",
    "  for (i <- secondRange) {\n",
    "    println(i)\n",
    "  }\n",
    "\n",
    "  val thirdRange = (10 to 0) by -1\n",
    "\n",
    "  val fourthRange = (0 to 10)\n",
    "\n",
    "  val fifthRange = 'a' to 'd'\n",
    "\n",
    "  val course = (\"Skrypty\",\"E-biznes\")\n",
    "\n",
    "  println(course._1)\n",
    "\n",
    "  val (x,y)=(1,2)\n",
    "  println(x)\n",
    "\n",
    "}\n",
    "\n",
    "rangeExample"
   ]
  },
  {
   "cell_type": "markdown",
   "metadata": {},
   "source": [
    "## Classes\n",
    "\n",
    "The classes in Scala are a bit specific. Take a look at the constructor:"
   ]
  },
  {
   "cell_type": "code",
   "execution_count": null,
   "metadata": {},
   "outputs": [],
   "source": [
    "class Compass {\n",
    "  // konstruktor\n",
    "  val directions = List(\"north\", \"east\", \"south\", \"west\")\n",
    "  var bearing = 0\n",
    "  print(\"Initial bearing: \")\n",
    "  println(direction)\n",
    "\n",
    "  def direction() = directions(bearing)\n",
    "\n",
    "  def inform(turnDirection: String) {\n",
    "    println(\"Turning \" + turnDirection + \". Now bearing \" + direction)\n",
    "  }\n",
    "\n",
    "  def turnRight() {\n",
    "    bearing = (bearing + 1) % directions.size\n",
    "    inform(\"right\")\n",
    "  }\n",
    "\n",
    "  def turnLeft() {\n",
    "    bearing = (bearing + (directions.size - 1)) % directions.size\n",
    "    inform(\"left\")\n",
    "  }\n",
    "\n",
    "}\n",
    "\n",
    "val myCompass = new Compass\n",
    "\n",
    "myCompass.turnRight\n",
    "myCompass.turnRight\n",
    "\n",
    "myCompass.turnLeft\n",
    "myCompass.turnLeft\n",
    "myCompass.turnLeft"
   ]
  },
  {
   "cell_type": "markdown",
   "metadata": {},
   "source": [
    "We have outer and inner constructors:"
   ]
  },
  {
   "cell_type": "code",
   "execution_count": 4,
   "metadata": {},
   "outputs": [
    {
     "data": {
      "text/plain": [
       "Name: Compile Error\n",
       "Message: <console>:21: error: not found: value lastName\n",
       "         def getLast()  = lastName\n",
       "                          ^\n",
       "StackTrace: "
      ]
     },
     "execution_count": 4,
     "metadata": {},
     "output_type": "execute_result"
    }
   ],
   "source": [
    "class Person(firstName: String) {\n",
    "  println(\"Outer constructor\")\n",
    "  def this(firstName: String, lastName: String) {\n",
    "    this(firstName)\n",
    "    println(\"Inner constructor\")\n",
    "  }\n",
    "    \n",
    "}\n",
    "\n",
    "print(bob.getFirst())\n",
    "print(bobTate.getLast())"
   ]
  },
  {
   "cell_type": "markdown",
   "metadata": {},
   "source": [
    "## Objects\n",
    "\n",
    "In Scala we have objects that are singletons:"
   ]
  },
  {
   "cell_type": "code",
   "execution_count": null,
   "metadata": {},
   "outputs": [],
   "source": [
    "object TrueRing {\n",
    "  def rule = println(\"To rule them all\")\n",
    "}\n",
    "TrueRing.rule"
   ]
  },
  {
   "cell_type": "code",
   "execution_count": null,
   "metadata": {},
   "outputs": [],
   "source": [
    "object sample {\n",
    "\n",
    "  def hello(): String = {\n",
    "    val text = \"Hello World\"\n",
    "    println(text)\n",
    "  }\n",
    "    \n",
    "}\n",
    "\n",
    "sample.hello()\n",
    "println(\"abcd\")"
   ]
  },
  {
   "cell_type": "markdown",
   "metadata": {},
   "source": [
    "## Inheritance\n",
    "\n",
    "We can inherit the same as in Java:"
   ]
  },
  {
   "cell_type": "code",
   "execution_count": null,
   "metadata": {},
   "outputs": [],
   "source": [
    "class Person(val name: String) {\n",
    "  def talk(message: String) = println(name + \" says \" + message)\n",
    "  def id(): String = name\n",
    "}\n",
    "\n",
    "class Employee(override val name: String,\n",
    "               val number: Int) extends Person(name) {\n",
    "  override def talk(message: String) {\n",
    "    println(name + \" with number \" + number + \" says \" + message)\n",
    "  }\n",
    "\n",
    "  override def id():String = number.toString\n",
    "}\n",
    "\n",
    "val employee = new Employee(\"Yoda\", 4)\n",
    "employee.talk(\"Extend or extend not. There is no try.\")"
   ]
  },
  {
   "cell_type": "markdown",
   "metadata": {},
   "source": [
    "## Traits\n",
    "\n",
    "Kind of abstract class, but not really the same:"
   ]
  },
  {
   "cell_type": "code",
   "execution_count": null,
   "metadata": {},
   "outputs": [],
   "source": [
    "class Person(val name:String)\n",
    "\n",
    "trait ABCD {\n",
    "  def sample() = println(\"Sample\")\n",
    "}\n",
    "\n",
    "trait Nice {\n",
    "  def greet() = println(\"Howdily doodily.\")\n",
    "}\n",
    "\n",
    "class Character(override val name:String) extends Person(name) with Nice\n",
    "\n",
    "val flanders = new Character(\"Ned\")\n",
    "flanders.greet"
   ]
  },
  {
   "cell_type": "markdown",
   "metadata": {},
   "source": [
    "## Lists"
   ]
  },
  {
   "cell_type": "code",
   "execution_count": null,
   "metadata": {},
   "outputs": [],
   "source": [
    "val lista=List(\"one\", \"two\", \"three\")\n",
    "\n",
    "println(lista(2))"
   ]
  },
  {
   "cell_type": "code",
   "execution_count": null,
   "metadata": {},
   "outputs": [],
   "source": [
    "println(Nil)"
   ]
  },
  {
   "cell_type": "code",
   "execution_count": null,
   "metadata": {},
   "outputs": [],
   "source": [
    "var a = List(1, 2, 3)\n",
    "var b = List(3, 2, 1)\n",
    "\n",
    "if(a==b) {\n",
    "  println(\"True\")\n",
    "} else {\n",
    "  println(\"False\")\n",
    "}"
   ]
  },
  {
   "cell_type": "code",
   "execution_count": null,
   "metadata": {},
   "outputs": [],
   "source": [
    "val list = List(\"frodo\", \"samwise\", \"pippin\")\n",
    "list.foreach(hobbit=>println(hobbit))\n"
   ]
  },
  {
   "cell_type": "code",
   "execution_count": null,
   "metadata": {},
   "outputs": [],
   "source": [
    "println(list.isEmpty)\n",
    "println(Nil.isEmpty)\n",
    "println(list.size)\n",
    "\n",
    "println(list.head)\n",
    "println(list.tail)\n",
    "println(list.last)\n",
    "println(list.init)\n",
    "\n",
    "println(list.reverse)\n",
    "\n",
    "println(list.drop(1))"
   ]
  },
  {
   "cell_type": "code",
   "execution_count": null,
   "metadata": {},
   "outputs": [],
   "source": [
    "val words = List(\"peg\", \"al\", \"bud\", \"kelly\")\n",
    "\n",
    "println(words.count(word => word.size > 2))\n",
    "println(words.filter(word => word.size > 2))\n",
    "println(words.map(word => word.size))\n",
    "\n",
    "println(words.forall(word => word.size > 1))\n",
    "println(words.exists(word => word.size > 4))\n",
    "println(words.exists(word => word.size > 5))\n",
    "\n",
    "println(words.sortWith(_ < _))"
   ]
  },
  {
   "cell_type": "code",
   "execution_count": null,
   "metadata": {},
   "outputs": [],
   "source": [
    "val lista2 = List(1, 2, 3)\n",
    "val sum = (0 /: lista2) {(sum, i) => sum + i}\n",
    "println(sum)\n",
    "//println(lista2.foldLeft(0)((sum, val"
   ]
  },
  {
   "cell_type": "markdown",
   "metadata": {},
   "source": [
    "## Sets"
   ]
  },
  {
   "cell_type": "code",
   "execution_count": null,
   "metadata": {},
   "outputs": [],
   "source": [
    "val animals = Set(\"lions\", \"tigers\", \"bears\")\n",
    "\n",
    "println(animals)\n",
    "\n",
    "println(animals+\"armadillos\")\n",
    "\n",
    "\n",
    "var animals2 = animals\n",
    "\n",
    "animals2=animals2-\"tigers\"\n",
    "\n",
    "println(animals2)\n",
    "\n",
    "var animals3 = animals\n",
    "\n",
    "//animals + Set(\"armadillos\", \"raccoons\")​\n",
    "\n",
    "animals3=animals3 ++ Set(\"armadillos\", \"raccoons\")\n",
    "\n",
    "println(animals3)"
   ]
  },
  {
   "cell_type": "code",
   "execution_count": null,
   "metadata": {},
   "outputs": [],
   "source": [
    "var a = Set(1, 2, 3, 1, 2)\n",
    "var b = Set(3, 2, 1)\n",
    "\n",
    "if(a==b){\n",
    "  println(\"True\")\n",
    "} else {\n",
    "  println(\"False\")\n",
    "}\n",
    "\n",
    "val hobbits = Set(\"frodo\", \"samwise\", \"pippin\")\n",
    "hobbits.foreach(hobbit => println(hobbit))"
   ]
  },
  {
   "cell_type": "markdown",
   "metadata": {},
   "source": [
    "## Maps"
   ]
  },
  {
   "cell_type": "code",
   "execution_count": null,
   "metadata": {},
   "outputs": [],
   "source": [
    "val ordinals = Map(0 -> \"zero\", 1 -> \"one\", 2 -> \"two\")\n",
    "println(ordinals(2))\n"
   ]
  },
  {
   "cell_type": "code",
   "execution_count": null,
   "metadata": {},
   "outputs": [],
   "source": [
    "val map = new mutable.HashMap[Int, String]\n",
    "\n",
    "map += 4 -> \"four\"\n",
    "map += 8 -> \"eight\"\n",
    "\n",
    "println(map)"
   ]
  },
  {
   "cell_type": "code",
   "execution_count": null,
   "metadata": {},
   "outputs": [],
   "source": [
    "val hobbits = Map(\"frodo\"->\"hobbit\",\"samwise\"->\"hobbit\",\"pippin\"->\"hobbit\")\n",
    "hobbits.foreach(hobbit => println(hobbit))\n",
    "hobbits.foreach(hobbit => println(hobbit._1))"
   ]
  },
  {
   "cell_type": "markdown",
   "metadata": {},
   "source": [
    "## Lazy"
   ]
  },
  {
   "cell_type": "code",
   "execution_count": 11,
   "metadata": {},
   "outputs": [],
   "source": [
    "lazy val someString = \"Hello World\""
   ]
  },
  {
   "cell_type": "markdown",
   "metadata": {},
   "source": [
    "## Exceptions"
   ]
  },
  {
   "cell_type": "code",
   "execution_count": 12,
   "metadata": {},
   "outputs": [
    {
     "data": {
      "text/plain": [
       "Name: java.lang.IllegalArgumentException\n",
       "Message: this should not be done this way\n",
       "StackTrace: "
      ]
     },
     "execution_count": 12,
     "metadata": {},
     "output_type": "execute_result"
    }
   ],
   "source": [
    "throw new IllegalArgumentException(\"this should not be done this way\")"
   ]
  },
  {
   "cell_type": "code",
   "execution_count": 15,
   "metadata": {},
   "outputs": [
    {
     "data": {
      "text/plain": [
       "1.4142135623730951"
      ]
     },
     "execution_count": 15,
     "metadata": {},
     "output_type": "execute_result"
    }
   ],
   "source": [
    "var x = 2\n",
    "\n",
    "if (x >= 0) { math.sqrt(x)\n",
    "\n",
    "} else throw new IllegalArgumentException(\"x should not be negative\")"
   ]
  },
  {
   "cell_type": "code",
   "execution_count": null,
   "metadata": {},
   "outputs": [],
   "source": [
    "try { ... } catch { ... } finally { ... }\n",
    "\n",
    "try {\n",
    "//...\n",
    "} catch {\n",
    "  case _: MalformedURLException => println(s\"Bad URL: $url\")\n",
    "  case ex: IOException => ex.printStackTrace()\n",
    "}"
   ]
  },
  {
   "cell_type": "markdown",
   "metadata": {},
   "source": [
    "## ArrayBuffer"
   ]
  },
  {
   "cell_type": "code",
   "execution_count": 19,
   "metadata": {},
   "outputs": [
    {
     "name": "stdout",
     "output_type": "stream",
     "text": [
      "ArrayBuffer(1, 2, 3, 4, 5)ArrayBuffer(1, 6, 2, 3, 4, 5)[I@4e132829"
     ]
    }
   ],
   "source": [
    "import scala.collection.mutable.ArrayBuffer\n",
    "\n",
    "val someArray = ArrayBuffer[Int]()\n",
    "\n",
    "someArray += 1\n",
    "someArray += (2,3,4,5)\n",
    "\n",
    "println(someArray)\n",
    "\n",
    "someArray.insert(1,6)\n",
    "println(someArray)\n",
    "\n",
    "someArray.remove(2)\n",
    "\n",
    "println(someArray.toArray)"
   ]
  },
  {
   "cell_type": "markdown",
   "metadata": {},
   "source": [
    "## Source"
   ]
  },
  {
   "cell_type": "code",
   "execution_count": 82,
   "metadata": {},
   "outputs": [
    {
     "data": {
      "text/plain": [
       "Name: java.io.FileNotFoundException\n",
       "Message: myfile.txt (No such file or directory)\n",
       "StackTrace:   at java.io.FileInputStream.open0(Native Method)\n",
       "  at java.io.FileInputStream.open(FileInputStream.java:195)\n",
       "  at java.io.FileInputStream.<init>(FileInputStream.java:138)\n",
       "  at scala.io.Source$.fromFile(Source.scala:91)\n",
       "  at scala.io.Source$.fromFile(Source.scala:76)\n",
       "  at scala.io.Source$.fromFile(Source.scala:54)\n",
       "  at scala.io.Source$.fromFile(Source.scala:60)"
      ]
     },
     "execution_count": 82,
     "metadata": {},
     "output_type": "execute_result"
    }
   ],
   "source": [
    "import scala.io.Source\n",
    "\n",
    "val source = Source.fromFile(\"myfile.txt\", \"UTF-8\")\n",
    "\n",
    "val lines = source.getLines.toArray"
   ]
  },
  {
   "cell_type": "code",
   "execution_count": 83,
   "metadata": {},
   "outputs": [],
   "source": [
    "val source1 = Source.fromURL(\"http://www.uj.edu.pl\", \"UTF-8\")"
   ]
  },
  {
   "cell_type": "markdown",
   "metadata": {},
   "source": [
    "## More about strings"
   ]
  },
  {
   "cell_type": "code",
   "execution_count": 20,
   "metadata": {},
   "outputs": [
    {
     "name": "stdout",
     "output_type": "stream",
     "text": [
      "0: 1\n",
      "1: 6\n",
      "2: 3\n",
      "3: 4\n",
      "4: 5\n"
     ]
    }
   ],
   "source": [
    "for (i <- 0 until someArray.length)\n",
    "  println(s\"$i: ${someArray(i)}\")"
   ]
  },
  {
   "cell_type": "markdown",
   "metadata": {},
   "source": [
    "## Case classes"
   ]
  },
  {
   "cell_type": "code",
   "execution_count": 22,
   "metadata": {},
   "outputs": [],
   "source": [
    "case class Book(title:String, author:String, isbn: String)\n",
    "\n",
    "val goodfellow = Book(\"Deep Learning\",\"Ian Goodfellow\",\"B01MRVFGX4\")\n",
    "\n",
    "val patterson = goodfellow.copy(author=\"Josh Patterson and Adam Gibson\",isbn=\"978-1491914250\")\n"
   ]
  },
  {
   "cell_type": "markdown",
   "metadata": {},
   "source": [
    "## Companion objects"
   ]
  },
  {
   "cell_type": "code",
   "execution_count": 9,
   "metadata": {},
   "outputs": [
    {
     "name": "stdout",
     "output_type": "stream",
     "text": [
      "9"
     ]
    }
   ],
   "source": [
    "class Square(x: Int) { \n",
    "\n",
    "    def calculate(): Int = x*x\n",
    "\n",
    "}\n",
    "\n",
    "object Square {\n",
    "  def apply(x: Int) = new Square(x)\n",
    "}\n",
    "\n",
    "var a = Square(3)\n",
    "print(a.calculate)"
   ]
  },
  {
   "cell_type": "markdown",
   "metadata": {},
   "source": [
    "## update "
   ]
  },
  {
   "cell_type": "code",
   "execution_count": 30,
   "metadata": {},
   "outputs": [],
   "source": [
    "val wyniki = new scala.collection.mutable.HashMap[String, Int]\n",
    "\n",
    "wyniki(\"Stefan\") = 50 // update\n",
    "\n",
    "val wynikStefana = wyniki(\"Stefan\") // apply"
   ]
  },
  {
   "cell_type": "markdown",
   "metadata": {},
   "source": [
    "## unapply"
   ]
  },
  {
   "cell_type": "code",
   "execution_count": 53,
   "metadata": {},
   "outputs": [
    {
     "name": "stdout",
     "output_type": "stream",
     "text": [
      "Zaliczono kurs: E-biznes\n"
     ]
    }
   ],
   "source": [
    "class Kurs(val nazwaKursu:String, val z:Int, val o:Int) {\n",
    "  val zaliczony = z\n",
    "  val ocena = o\n",
    "  val nazwa = nazwaKursu\n",
    "}\n",
    "\n",
    "object Kurs {\n",
    "  def apply(nazwa: String, zaliczony: Int, ocena: Int): Kurs = new Kurs(nazwa,zaliczony,ocena)\n",
    "\n",
    "  def unapply(kurs: Kurs) = if (kurs.zaliczony == 0) None else Some((kurs.zaliczony, kurs.ocena))\n",
    "}\n",
    "\n",
    "val kurs = Kurs(\"E-biznes\",1,3)\n",
    "\n",
    "val kurs = Kurs(\"E-biznes\",1,3)\n",
    "\n",
    "kurs match {\n",
    "  case kurs: Kurs => println(\"Zaliczono kurs: \"+kurs.nazwa)\n",
    "  case _ => println(\"Nie zaliczony\")\n",
    "}"
   ]
  },
  {
   "cell_type": "markdown",
   "metadata": {},
   "source": [
    "## Functions as variables"
   ]
  },
  {
   "cell_type": "code",
   "execution_count": 3,
   "metadata": {},
   "outputs": [
    {
     "name": "stdout",
     "output_type": "stream",
     "text": [
      "1.4142135623730951"
     ]
    }
   ],
   "source": [
    "val √ = scala.math.sqrt _\n",
    "\n",
    "print(√(2))"
   ]
  },
  {
   "cell_type": "markdown",
   "metadata": {},
   "source": [
    "## Zip"
   ]
  },
  {
   "cell_type": "code",
   "execution_count": 71,
   "metadata": {},
   "outputs": [
    {
     "name": "stdout",
     "output_type": "stream",
     "text": [
      "List((5.0,10), (20.0,2), (9.95,1))\n"
     ]
    }
   ],
   "source": [
    "val prices = List(5.0, 20.0, 9.95)\n",
    "\n",
    "val quantities = List(10, 2, 1)\n",
    "\n",
    "val zipped = prices zip quantities\n",
    "\n",
    "println(zipped)"
   ]
  },
  {
   "cell_type": "markdown",
   "metadata": {},
   "source": [
    "## Nil, None, Some"
   ]
  },
  {
   "cell_type": "code",
   "execution_count": 66,
   "metadata": {},
   "outputs": [
    {
     "name": "stdout",
     "output_type": "stream",
     "text": [
      "List()true\n",
      "true\n",
      "true\n",
      "null"
     ]
    }
   ],
   "source": [
    "print(Nil)\n",
    "\n",
    "println (Nil == List())\n",
    "println (Nil eq List())\n",
    "println (Nil equals List())\n",
    "\n",
    "print(null)"
   ]
  },
  {
   "cell_type": "code",
   "execution_count": null,
   "metadata": {},
   "outputs": [],
   "source": [
    "def toInt(in: String): Option[Int] = {\n",
    "  try {\n",
    "    Some(Integer.parseInt(in.trim))\n",
    "  } catch {\n",
    "    case e: NumberFormatException => None\n",
    "  }\n",
    "}\n",
    "\n",
    "val someString = \"aaa\"\n",
    "\n",
    "toInt(someString) match {\n",
    "  case Some(i) => println(i)\n",
    "  case None => println(\"That didn't work.\")\n",
    "}"
   ]
  },
  {
   "cell_type": "markdown",
   "metadata": {},
   "source": [
    "## Anonymous functions"
   ]
  },
  {
   "cell_type": "code",
   "execution_count": 74,
   "metadata": {},
   "outputs": [
    {
     "data": {
      "text/plain": [
       "2"
      ]
     },
     "execution_count": 74,
     "metadata": {},
     "output_type": "execute_result"
    }
   ],
   "source": [
    "val fun = (x: Int) => x + 1\n",
    "\n",
    "fun(1)"
   ]
  },
  {
   "cell_type": "markdown",
   "metadata": {},
   "source": [
    "## Sealed class"
   ]
  },
  {
   "cell_type": "code",
   "execution_count": 72,
   "metadata": {},
   "outputs": [],
   "source": [
    "sealed abstract class Amount\n",
    "\n",
    "case class Dollar(value: Double) extends Amount\n",
    "\n",
    "case class Currency(value: Double, unit: String) extends Amount"
   ]
  },
  {
   "cell_type": "markdown",
   "metadata": {},
   "source": [
    "## Futures"
   ]
  },
  {
   "cell_type": "code",
   "execution_count": 70,
   "metadata": {},
   "outputs": [
    {
     "data": {
      "text/plain": [
       "List()"
      ]
     },
     "execution_count": 70,
     "metadata": {},
     "output_type": "execute_result"
    }
   ],
   "source": [
    "import scala.concurrent.Future\n",
    "import scala.concurrent.ExecutionContext.Implicits.global\n",
    "\n",
    "val f = Future {\n",
    "  Thread.sleep(10000)\n",
    "\n",
    "  50\n",
    "\n",
    "}\n",
    "\n",
    "println(f)"
   ]
  },
  {
   "cell_type": "markdown",
   "metadata": {},
   "source": [
    "## Implicit"
   ]
  },
  {
   "cell_type": "code",
   "execution_count": 79,
   "metadata": {},
   "outputs": [
    {
     "name": "stdout",
     "output_type": "stream",
     "text": [
      "iOS0"
     ]
    }
   ],
   "source": [
    "implicit def nazwa2Kurs(nazwa: String) = Kurs(nazwa, 0, 2)\n",
    "\n",
    "val kurs = nazwa2Kurs(\"iOS\")\n",
    "println(kurs.nazwa)\n",
    "println(kurs.zaliczony)\n"
   ]
  },
  {
   "cell_type": "markdown",
   "metadata": {},
   "source": [
    "## XML parsing"
   ]
  },
  {
   "cell_type": "code",
   "execution_count": null,
   "metadata": {},
   "outputs": [],
   "source": [
    "val movies = <movies><movie genre=\"action\">Pirates of the Caribbean</movie>\n",
    "  <movie genre=\"fairytale\">Edward Scissorhands</movie></movies>\n",
    "println(movies.text)\n",
    "\n",
    "val movieNodes = movies \\ \"movie\"\n",
    "println(movieNodes(0))\n",
    "\n",
    "println(movieNodes(0) \\ \"@genre\")"
   ]
  },
  {
   "cell_type": "markdown",
   "metadata": {},
   "source": [
    "## Pattern matching"
   ]
  },
  {
   "cell_type": "code",
   "execution_count": null,
   "metadata": {},
   "outputs": [],
   "source": [
    "def doChore(chore: String): String = chore match {\n",
    "  case \"clean dishes\" => \"scrub, dry\"\n",
    "  case \"cook dinner\" => \"chop, sizzle\"\n",
    "  case _ => \"whine, complain\"\n",
    "}\n",
    "println(doChore(\"clean dishes\"))\n",
    "println(doChore(\"mow lawn\"))\n"
   ]
  },
  {
   "cell_type": "code",
   "execution_count": null,
   "metadata": {},
   "outputs": [],
   "source": [
    "def factorial(n: Int): Int = n match {\n",
    "  case 0 => 1\n",
    "  case x if x > 0 => factorial(n - 1) * n\n",
    "}\n",
    "\n",
    "println(factorial(3))\n",
    "println(factorial(0))"
   ]
  },
  {
   "cell_type": "code",
   "execution_count": null,
   "metadata": {},
   "outputs": [],
   "source": [
    "val reg = \"\"\"^(F|f)\\w*\"\"\".r\n",
    "println(reg.findFirstIn(\"Fantastic\"))\n",
    "println(reg.findFirstIn(\"not Fantastic\"))\n",
    "\n",
    "val reg2 = \"the\".r\n",
    "println(reg2.findAllIn(\"the way the scissors trim the hair and the shrubs\").toList)"
   ]
  },
  {
   "cell_type": "code",
   "execution_count": null,
   "metadata": {},
   "outputs": [],
   "source": [
    "val movies = <movies>\n",
    "  <movie>Inglourious Basterds</movie>\n",
    "  <movie>The Wolf of Wall Street</movie>\n",
    "  <trilogy>Indiana Jones</trilogy>\n",
    "  <trilogy>Godfather</trilogy>\n",
    "</movies>\n",
    "\n",
    "(movies \\ \"_\").foreach { movie =>\n",
    "  movie match {\n",
    "    case <movie>{movieName}</movie> => println(movieName)\n",
    "    case <trilogy>{trilogyName}</trilogy> => println(trilogyName + \" (trilogy)\")\n",
    "  }\n",
    "}"
   ]
  },
  {
   "cell_type": "markdown",
   "metadata": {},
   "source": [
    "## Concurrency"
   ]
  },
  {
   "cell_type": "code",
   "execution_count": null,
   "metadata": {},
   "outputs": [],
   "source": [
    "import akka.actor.{Actor, ActorSystem, Props}\n",
    "\n",
    "case class ProcessStringMsg(string: String)\n",
    "case class StringProcessedMsg(words: Integer)\n",
    "\n",
    "class StringCounterActor extends Actor {\n",
    "  def receive = {\n",
    "    case ProcessStringMsg(string) => {\n",
    "      val wordsInLine = string.split(\" \").length\n",
    "      sender ! StringProcessedMsg(wordsInLine)\n",
    "    }\n",
    "    case _ => println(\"Error: message not recognized\")\n",
    "  }\n",
    "}\n",
    "\n",
    "\n",
    "val system = ActorSystem(\"ActorSystem\")\n",
    "\n",
    "val stringCounterActor = system.actorOf(Props[StringCounterActor], name = \"StringCounterActor\")\n",
    "stringCounterActor ! \"hello\"\n",
    "stringCounterActor ! \"buenos dias\"\n",
    "\n",
    "val actor = new StringCounterActor()\n",
    "val response = actor.receive"
   ]
  }
 ],
 "metadata": {
  "kernelspec": {
   "display_name": "Apache Toree - Scala",
   "language": "scala",
   "name": "apache_toree_scala"
  },
  "language_info": {
   "file_extension": ".scala",
   "name": "scala",
   "version": "2.11.8"
  }
 },
 "nbformat": 4,
 "nbformat_minor": 2
}
